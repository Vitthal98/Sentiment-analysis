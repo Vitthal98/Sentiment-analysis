{
  "nbformat": 4,
  "nbformat_minor": 0,
  "metadata": {
    "colab": {
      "name": "Copy of Copy of sentiment analysis reduced.ipynb",
      "provenance": [],
      "collapsed_sections": []
    },
    "kernelspec": {
      "display_name": "Python 3",
      "name": "python3"
    }
  },
  "cells": [
    {
      "cell_type": "code",
      "metadata": {
        "colab": {
          "base_uri": "https://localhost:8080/"
        },
        "id": "SI6GXVF9H4ph",
        "outputId": "5ddd4fe5-a31d-44ff-a32a-ec5287e29b3e"
      },
      "source": [
        "from google.colab import drive\n",
        "drive.mount('/content/drive')"
      ],
      "execution_count": null,
      "outputs": [
        {
          "output_type": "stream",
          "text": [
            "Drive already mounted at /content/drive; to attempt to forcibly remount, call drive.mount(\"/content/drive\", force_remount=True).\n"
          ],
          "name": "stdout"
        }
      ]
    },
    {
      "cell_type": "code",
      "metadata": {
        "colab": {
          "base_uri": "https://localhost:8080/"
        },
        "id": "dNWWIE4MIduP",
        "outputId": "21a6d73e-22c6-43cd-f420-461a76632417"
      },
      "source": [
        "import numpy as np\n",
        "import random\n",
        "import pickle\n",
        "from datetime import datetime\n",
        "import matplotlib.pyplot as plt\n",
        "\n",
        "\"\"\"\n",
        "for preprocessing the data\n",
        "\"\"\"\n",
        "import re\n",
        "import nltk\n",
        "from nltk.tokenize import word_tokenize\n",
        "from nltk.corpus import stopwords\n",
        "from nltk.stem import WordNetLemmatizer\n",
        "nltk.download('punkt')\n",
        "nltk.download('stopwords')\n",
        "nltk.download('wordnet')\n",
        "from keras.preprocessing.text import Tokenizer\n",
        "from keras.preprocessing.sequence import pad_sequences\n",
        "\n",
        "\"\"\"\n",
        "for evaluating accuracy of model based on confusion matrix\n",
        "\"\"\"\n",
        "from sklearn import metrics\n"
      ],
      "execution_count": null,
      "outputs": [
        {
          "output_type": "stream",
          "text": [
            "[nltk_data] Downloading package punkt to /root/nltk_data...\n",
            "[nltk_data]   Unzipping tokenizers/punkt.zip.\n",
            "[nltk_data] Downloading package stopwords to /root/nltk_data...\n",
            "[nltk_data]   Unzipping corpora/stopwords.zip.\n",
            "[nltk_data] Downloading package wordnet to /root/nltk_data...\n",
            "[nltk_data]   Unzipping corpora/wordnet.zip.\n"
          ],
          "name": "stdout"
        }
      ]
    },
    {
      "cell_type": "code",
      "metadata": {
        "id": "WbdDbdcrJPHK"
      },
      "source": [
        "fp1 = open(\"/content/drive/My Drive/Colab Notebooks/sentiment analysis/Dictionary.txt\", \"r\")\n",
        "lines1 = fp1.readlines()\n",
        "fp1.close()\n",
        "\n",
        "fp2 = open(\"/content/drive/My Drive/Colab Notebooks/sentiment analysis/Senti_scores.txt\", \"r\")\n",
        "lines2 = fp2.readlines()\n",
        "fp2.close()\n",
        "\n",
        "fp3 = open(\"/content/drive/My Drive/Colab Notebooks/sentiment analysis/Train-Dev_test split.txt\", \"r\")\n",
        "lines3 = fp3.readlines()\n",
        "fp3.close()\n",
        "\n",
        "fp4 = open(\"/content/drive/My Drive/Colab Notebooks/sentiment analysis/Movie Review Dataset.txt\", \"r\")\n",
        "lines4 = fp4.readlines()\n",
        "fp4.close()"
      ],
      "execution_count": null,
      "outputs": []
    },
    {
      "cell_type": "code",
      "metadata": {
        "id": "br0CXKP5K2jd"
      },
      "source": [
        "\"\"\"\n",
        "converting scores to classes\n",
        "\"\"\"\n",
        "phrase_index = {}\n",
        "index_score = {}\n",
        "data_split = {}\n",
        "sent_index = {}\n",
        "index_class = {}\n",
        "\n",
        "for line in lines1:\n",
        "  tokens = line.strip().split(\"|\")\n",
        "  phrase_index[tokens[0]]=tokens[1]\n",
        "for line in lines2[1:]:\n",
        "  tokens = line.strip().split(\"|\")\n",
        "  index_score[tokens[0]]=float(tokens[1])\n",
        "for line in lines3[1:]:\n",
        "  tokens = line.strip().split(\",\")\n",
        "  data_split[tokens[0]]=tokens[1]\n",
        "for line in lines4[1:]:\n",
        "  tokens = line.strip().split(\"\\t\")\n",
        "  sent_index[tokens[0]]=tokens[1]\n",
        "\n",
        "for i, s in index_score.items():\n",
        "  if s<=0.2:\n",
        "    index_class[i]=0\n",
        "  elif s<=0.4:\n",
        "    index_class[i]=1\n",
        "  elif s<=0.6:\n",
        "    index_class[i]=2\n",
        "  elif s<=0.8:\n",
        "    index_class[i]=3\n",
        "  elif s<=1.0:\n",
        "    index_class[i]=4"
      ],
      "execution_count": null,
      "outputs": []
    },
    {
      "cell_type": "code",
      "metadata": {
        "id": "ZBX63B9lYN1Q"
      },
      "source": [
        "\"\"\"\n",
        "cleaning the phrases\n",
        "\"\"\"\n",
        "phrases=list(phrase_index.keys())\n",
        "Y=list(phrase_index.values())\n",
        "\n",
        "Stopwords = set(stopwords.words(\"english\"))\n",
        "\n",
        "for i in range(len(phrases)):\n",
        "  phrase = re.sub(\"[^A-Za-z]+\", \" \", phrases[i])\n",
        "  words = word_tokenize(phrase)\n",
        "  words = [word.lower() for word in words]\n",
        "  words = [word for word in words if word not in Stopwords]\n",
        "  lemmatizer = WordNetLemmatizer()\n",
        "  words = [lemmatizer.lemmatize(word) for word in words]\n",
        "  clean_phrase = \" \".join(words)\n",
        "  phrases[i] = clean_phrase"
      ],
      "execution_count": null,
      "outputs": []
    },
    {
      "cell_type": "code",
      "metadata": {
        "colab": {
          "base_uri": "https://localhost:8080/"
        },
        "id": "6t-DV72mgKEJ",
        "outputId": "642fa5c6-7809-4465-d86e-ef351a5a977c"
      },
      "source": [
        "i=10\n",
        "j=5\n",
        "for k,v in phrase_index.items():\n",
        "  if i>0 and i<5:\n",
        "    print(k)\n",
        "  i=i-1\n",
        "print(\"---------------------------------------------------------------\")\n",
        "for i in range(6,10):\n",
        "  print(phrases[i])"
      ],
      "execution_count": null,
      "outputs": [
        {
          "output_type": "stream",
          "text": [
            "! Brilliant ! '\n",
            "! C'mon\n",
            "! Gollum 's ` performance ' is incredible\n",
            "! Oh , look at that clever angle ! Wow , a jump cut !\n",
            "---------------------------------------------------------------\n",
            "brilliant\n",
            "c mon\n",
            "gollum performance incredible\n",
            "oh look clever angle wow jump cut\n"
          ],
          "name": "stdout"
        }
      ]
    },
    {
      "cell_type": "code",
      "metadata": {
        "id": "fqCgfQ07i9-y"
      },
      "source": [
        "Y_class=[0 for i in range(len(Y))]\n",
        "for i in range(len(Y)):\n",
        "  Y[i]=index_class[Y[i]]"
      ],
      "execution_count": null,
      "outputs": []
    },
    {
      "cell_type": "code",
      "metadata": {
        "colab": {
          "base_uri": "https://localhost:8080/"
        },
        "id": "bhzMl9d_5cak",
        "outputId": "533ddca5-e4c1-4436-8374-e0a22baebcdd"
      },
      "source": [
        "sum=0\n",
        "for phrase in phrases:\n",
        "  sum+= len(phrase.split())\n",
        "avg=sum/len(phrases)\n",
        "\n",
        "avg"
      ],
      "execution_count": null,
      "outputs": [
        {
          "output_type": "execute_result",
          "data": {
            "text/plain": [
              "4.239060827982879"
            ]
          },
          "metadata": {
            "tags": []
          },
          "execution_count": 9
        }
      ]
    },
    {
      "cell_type": "code",
      "metadata": {
        "id": "AGMWG5flKV_2"
      },
      "source": [
        "embed_dim = 50\n",
        "max_seq_len = 8\n",
        "\n",
        "min_val=0.001"
      ],
      "execution_count": null,
      "outputs": []
    },
    {
      "cell_type": "code",
      "metadata": {
        "id": "TmJXJDaWjJYJ"
      },
      "source": [
        "tokenizer = Tokenizer()\n",
        "tokenizer.fit_on_texts(phrases)\n",
        "sequence = tokenizer.texts_to_sequences(phrases)"
      ],
      "execution_count": null,
      "outputs": []
    },
    {
      "cell_type": "code",
      "metadata": {
        "colab": {
          "base_uri": "https://localhost:8080/"
        },
        "id": "v5hxb6VwmpJc",
        "outputId": "a4dd30f6-5d98-47b0-8d58-a7866f4b01b2"
      },
      "source": [
        "index_of_words = tokenizer.word_index\n",
        "print(len(index_of_words))"
      ],
      "execution_count": null,
      "outputs": [
        {
          "output_type": "stream",
          "text": [
            "16034\n"
          ],
          "name": "stdout"
        }
      ]
    },
    {
      "cell_type": "code",
      "metadata": {
        "id": "mQVHJHchmrfV"
      },
      "source": [
        "padded_seq = pad_sequences(sequence , maxlen = max_seq_len )"
      ],
      "execution_count": null,
      "outputs": []
    },
    {
      "cell_type": "code",
      "metadata": {
        "colab": {
          "base_uri": "https://localhost:8080/"
        },
        "id": "XUx2qRy2m1iV",
        "outputId": "6be1c1d0-231c-4838-848a-f7e1f67610da"
      },
      "source": [
        "padded_seq, padded_seq.shape"
      ],
      "execution_count": null,
      "outputs": [
        {
          "output_type": "execute_result",
          "data": {
            "text/plain": [
              "(array([[    0,     0,     0, ...,     0,     0,     0],\n",
              "        [    0,     0,     0, ...,     0,     0,     0],\n",
              "        [    0,     0,     0, ...,     0,     0,     0],\n",
              "        ...,\n",
              "        [    0,     0,     0, ...,     0,     0,  3847],\n",
              "        [    0,     0,     0, ...,     0,     0,     0],\n",
              "        [    0,     0,     0, ...,  2206, 13469, 13470]], dtype=int32),\n",
              " (239232, 8))"
            ]
          },
          "metadata": {
            "tags": []
          },
          "execution_count": 14
        }
      ]
    },
    {
      "cell_type": "code",
      "metadata": {
        "colab": {
          "base_uri": "https://localhost:8080/"
        },
        "id": "xCEbtsiZzdzr",
        "outputId": "e516df60-0212-4cea-96a2-125a088d86a5"
      },
      "source": [
        "arr={0:0, 1:0, 2:0, 3:0, 4:0}\n",
        "for i in range(len(Y)):\n",
        "  arr[Y[i]]+=1\n",
        "arr"
      ],
      "execution_count": null,
      "outputs": [
        {
          "output_type": "execute_result",
          "data": {
            "text/plain": [
              "{0: 11352, 1: 43028, 2: 119449, 3: 50148, 4: 15255}"
            ]
          },
          "metadata": {
            "tags": []
          },
          "execution_count": 15
        }
      ]
    },
    {
      "cell_type": "code",
      "metadata": {
        "id": "3awrJUx4nDox"
      },
      "source": [
        "\"\"\"\n",
        "splitting the data into train, dev and test set in the ration 44:28:28\n",
        "\"\"\"\n",
        "z = list(zip(padded_seq, Y))\n",
        "random.Random(8).shuffle(z)\n",
        "padded_seq, Y = zip(*z)\n",
        "\n",
        "x_train = []\n",
        "x_dev = []\n",
        "x_test = []\n",
        "\n",
        "y_train = []\n",
        "y_dev = []\n",
        "y_test = []\n",
        "\n",
        "c0={'train':0,'dev':0,'test':0}\n",
        "c1={'train':0,'dev':0,'test':0}\n",
        "c2={'train':0,'dev':0,'test':0}\n",
        "c3={'train':0,'dev':0,'test':0}\n",
        "c4={'train':0,'dev':0,'test':0}\n",
        "\n",
        "for i in range(len(Y)):\n",
        "\n",
        "  if Y[i]==0:\n",
        "    if c0['train']<int(arr[0]/5):\n",
        "      x_train.append(i)\n",
        "      c0['train']+=1\n",
        "    elif c0['dev']<int(arr[0]/5):\n",
        "      x_dev.append(i)\n",
        "      c0['dev']+=1\n",
        "    elif c0['test']<int(arr[0]/5):\n",
        "      x_test.append(i)\n",
        "      c0['test']+=1\n",
        "\n",
        "  elif Y[i]==1:\n",
        "    if c1['train']<int(arr[1]/16):\n",
        "      x_train.append(i)\n",
        "      c1['train']+=1\n",
        "    elif c1['dev']<int(arr[1]/16):\n",
        "      x_dev.append(i)\n",
        "      c1['dev']+=1\n",
        "    elif c1['test']<int(arr[1]/16):\n",
        "      x_test.append(i)\n",
        "      c1['test']+=1\n",
        "    \n",
        "  elif Y[i]==2:\n",
        "    if c2['train']<int(40000/16):\n",
        "      x_train.append(i)\n",
        "      c2['train']+=1\n",
        "    elif c2['dev']<int(40000/16):\n",
        "      x_dev.append(i)\n",
        "      c2['dev']+=1\n",
        "    elif c2['test']<int(40000/16):\n",
        "      x_test.append(i)\n",
        "      c2['test']+=1\n",
        "\n",
        "  elif Y[i]==3:\n",
        "    if c3['train']<int(arr[3]/16):\n",
        "      x_train.append(i)\n",
        "      c3['train']+=1\n",
        "    elif c3['dev']<int(arr[3]/16):\n",
        "      x_dev.append(i)\n",
        "      c3['dev']+=1\n",
        "    elif c3['test']<int(arr[3]/16):\n",
        "      x_test.append(i)\n",
        "      c3['test']+=1\n",
        "\n",
        "  if Y[i]==4:\n",
        "    if c4['train']<int(arr[4]/7):\n",
        "      x_train.append(i)\n",
        "      c4['train']+=1\n",
        "    elif c4['dev']<int(arr[4]/7):\n",
        "      x_dev.append(i)\n",
        "      c4['dev']+=1\n",
        "    elif c4['test']<int(arr[4]/7):\n",
        "      x_test.append(i)\n",
        "      c4['test']+=1\n"
      ],
      "execution_count": null,
      "outputs": []
    },
    {
      "cell_type": "code",
      "metadata": {
        "colab": {
          "base_uri": "https://localhost:8080/"
        },
        "id": "k-4oQoBanlBp",
        "outputId": "ee674b51-4259-4b2d-a139-35a32dc7e294"
      },
      "source": [
        "len(x_train), len(x_dev), len(x_test)"
      ],
      "execution_count": null,
      "outputs": [
        {
          "output_type": "execute_result",
          "data": {
            "text/plain": [
              "(12772, 12772, 12772)"
            ]
          },
          "metadata": {
            "tags": []
          },
          "execution_count": 17
        }
      ]
    },
    {
      "cell_type": "code",
      "metadata": {
        "id": "O8GEQCrtfUBt"
      },
      "source": [
        "X_train=[]\n",
        "Y_train=[]\n",
        "X_dev=[]\n",
        "Y_dev=[]\n",
        "X_test=[]\n",
        "Y_test=[]\n",
        "\n",
        "for i in x_train:\n",
        "  X_train.append(padded_seq[i])\n",
        "  Y_train.append(Y[i])\n",
        "for i in x_dev:\n",
        "  X_dev.append(padded_seq[i])\n",
        "  Y_dev.append(Y[i])\n",
        "for i in x_test:\n",
        "  X_test.append(padded_seq[i])\n",
        "  Y_test.append(Y[i])"
      ],
      "execution_count": null,
      "outputs": []
    },
    {
      "cell_type": "code",
      "metadata": {
        "colab": {
          "base_uri": "https://localhost:8080/"
        },
        "id": "zf-SEF3Hf1fi",
        "outputId": "ddee3d42-5b09-4313-d4bc-062c9f7bf072"
      },
      "source": [
        "len(X_train), len(Y_train), len(X_dev), len(Y_dev), len(X_test), len(Y_test)"
      ],
      "execution_count": null,
      "outputs": [
        {
          "output_type": "execute_result",
          "data": {
            "text/plain": [
              "(12772, 12772, 12772, 12772, 12772, 12772)"
            ]
          },
          "metadata": {
            "tags": []
          },
          "execution_count": 19
        }
      ]
    },
    {
      "cell_type": "code",
      "metadata": {
        "colab": {
          "base_uri": "https://localhost:8080/"
        },
        "id": "r1u0D5Uvf53h",
        "outputId": "307c95d3-e53a-4b1b-81a2-618da3664e37"
      },
      "source": [
        "brr={0:0, 1:0, 2:0, 3:0, 4:0}\n",
        "for i in range(len(Y_train)):\n",
        "  brr[Y_train[i]]+=1\n",
        "brr"
      ],
      "execution_count": null,
      "outputs": [
        {
          "output_type": "execute_result",
          "data": {
            "text/plain": [
              "{0: 2270, 1: 2689, 2: 2500, 3: 3134, 4: 2179}"
            ]
          },
          "metadata": {
            "tags": []
          },
          "execution_count": 20
        }
      ]
    },
    {
      "cell_type": "code",
      "metadata": {
        "colab": {
          "base_uri": "https://localhost:8080/"
        },
        "id": "WwNnKTmzp2bp",
        "outputId": "2e09740a-36f9-4154-93f5-418c8a1a60f2"
      },
      "source": [
        "\"\"\"\n",
        "obtaining 50-dim GloVe vectors\n",
        "\"\"\"\n",
        "\n",
        "f = open('/content/drive/My Drive/Colab Notebooks/sentiment analysis/glove.6B.50d.txt')\n",
        "embedd_index = {}\n",
        "for line in f:\n",
        "    val = line.split()\n",
        "    word = val[0]\n",
        "    coff = np.asarray(val[1:],dtype = 'float')\n",
        "    embedd_index[word] = coff\n",
        "\n",
        "f.close()\n",
        "print('Found %s word vectors.' % len(embedd_index))"
      ],
      "execution_count": null,
      "outputs": [
        {
          "output_type": "stream",
          "text": [
            "Found 400000 word vectors.\n"
          ],
          "name": "stdout"
        }
      ]
    },
    {
      "cell_type": "code",
      "metadata": {
        "colab": {
          "base_uri": "https://localhost:8080/"
        },
        "id": "cOgugSVCrhZP",
        "outputId": "fd1794e7-6d51-4dc9-a622-103ff46724ce"
      },
      "source": [
        "embedd_index['good']"
      ],
      "execution_count": null,
      "outputs": [
        {
          "output_type": "execute_result",
          "data": {
            "text/plain": [
              "array([-3.5586e-01,  5.2130e-01, -6.1070e-01, -3.0131e-01,  9.4862e-01,\n",
              "       -3.1539e-01, -5.9831e-01,  1.2188e-01, -3.1943e-02,  5.5695e-01,\n",
              "       -1.0621e-01,  6.3399e-01, -4.7340e-01, -7.5895e-02,  3.8247e-01,\n",
              "        8.1569e-02,  8.2214e-01,  2.2220e-01, -8.3764e-03, -7.6620e-01,\n",
              "       -5.6253e-01,  6.1759e-01,  2.0292e-01, -4.8598e-02,  8.7815e-01,\n",
              "       -1.6549e+00, -7.7418e-01,  1.5435e-01,  9.4823e-01, -3.9520e-01,\n",
              "        3.7302e+00,  8.2855e-01, -1.4104e-01,  1.6395e-02,  2.1115e-01,\n",
              "       -3.6085e-02, -1.5587e-01,  8.6583e-01,  2.6309e-01, -7.1015e-01,\n",
              "       -3.6770e-02,  1.8282e-03, -1.7704e-01,  2.7032e-01,  1.1026e-01,\n",
              "        1.4133e-01, -5.7322e-02,  2.7207e-01,  3.1305e-01,  9.2771e-01])"
            ]
          },
          "metadata": {
            "tags": []
          },
          "execution_count": 22
        }
      ]
    },
    {
      "cell_type": "code",
      "metadata": {
        "id": "riIynsYkrots"
      },
      "source": [
        "\"\"\"\n",
        "initializing the embedding matrix\n",
        "\"\"\"\n",
        "\n",
        "embedding_matrix = np.zeros((len(index_of_words) + 1, embed_dim))\n",
        "\n",
        "tokens = []\n",
        "labels = []\n",
        "\n",
        "for word,i in index_of_words.items():\n",
        "  temp = embedd_index.get(word)\n",
        "  if temp is not None:\n",
        "    embedding_matrix[i] = temp\n",
        "    \n",
        "    #for plotting\n",
        "    tokens.append(embedding_matrix[i])\n",
        "    labels.append(word)"
      ],
      "execution_count": null,
      "outputs": []
    },
    {
      "cell_type": "code",
      "metadata": {
        "colab": {
          "base_uri": "https://localhost:8080/"
        },
        "id": "8jbuhdl3sQXl",
        "outputId": "d6a8fbeb-41e6-4d6f-a820-f662b7745fa5"
      },
      "source": [
        "embedding_matrix.shape"
      ],
      "execution_count": null,
      "outputs": [
        {
          "output_type": "execute_result",
          "data": {
            "text/plain": [
              "(16035, 50)"
            ]
          },
          "metadata": {
            "tags": []
          },
          "execution_count": 24
        }
      ]
    },
    {
      "cell_type": "code",
      "metadata": {
        "colab": {
          "base_uri": "https://localhost:8080/"
        },
        "id": "8225Ybp9wdUh",
        "outputId": "f104e030-0fbc-4ecc-ee80-81d5724cc76f"
      },
      "source": [
        "len(index_of_words)"
      ],
      "execution_count": null,
      "outputs": [
        {
          "output_type": "execute_result",
          "data": {
            "text/plain": [
              "16034"
            ]
          },
          "metadata": {
            "tags": []
          },
          "execution_count": 25
        }
      ]
    },
    {
      "cell_type": "code",
      "metadata": {
        "id": "9pDgXu7Hw5U3"
      },
      "source": [
        "\"\"\"\n",
        "statically storing the \"embedding layer\" output of X_train and X_dev and then flattening it for input to hidden layer\n",
        "\"\"\"\n",
        "flattened_X_train =[]\n",
        "flattened_X_dev =[]\n",
        "flattened_X_test =[]\n",
        "\n",
        "for x in X_train:\n",
        "  emb_op=np.zeros((max_seq_len, embed_dim))\n",
        "  for i in range(len(x)):\n",
        "    emb_op[i]=embedding_matrix[x[i]]\n",
        "  emb_op=emb_op.flatten()\n",
        "  flattened_X_train.append(emb_op)\n",
        "\n",
        "for y in X_dev:\n",
        "  emb_op=np.zeros((max_seq_len, embed_dim))\n",
        "  for i in range(len(y)):\n",
        "    emb_op[i]=embedding_matrix[y[i]]\n",
        "  emb_op=emb_op.flatten()\n",
        "  flattened_X_dev.append(emb_op)\n",
        "\n",
        "for z in X_test:\n",
        "  emb_op=np.zeros((max_seq_len, embed_dim))\n",
        "  for i in range(len(z)):\n",
        "    emb_op[i]=embedding_matrix[z[i]]\n",
        "  emb_op=emb_op.flatten()\n",
        "  flattened_X_test.append(emb_op)\n",
        "\n",
        "flattened_X_train=np.array(flattened_X_train)\n",
        "flattened_X_dev=np.array(flattened_X_dev)\n",
        "flattened_X_test=np.array(flattened_X_test)"
      ],
      "execution_count": null,
      "outputs": []
    },
    {
      "cell_type": "code",
      "metadata": {
        "colab": {
          "base_uri": "https://localhost:8080/"
        },
        "id": "8AXUr5hCg5Bu",
        "outputId": "a8f1c832-877d-4d93-e31f-d4e66733c5b4"
      },
      "source": [
        "flattened_X_train.shape, flattened_X_dev.shape, flattened_X_test.shape"
      ],
      "execution_count": null,
      "outputs": [
        {
          "output_type": "execute_result",
          "data": {
            "text/plain": [
              "((12772, 400), (12772, 400), (12772, 400))"
            ]
          },
          "metadata": {
            "tags": []
          },
          "execution_count": 27
        }
      ]
    },
    {
      "cell_type": "code",
      "metadata": {
        "colab": {
          "base_uri": "https://localhost:8080/"
        },
        "id": "Qy-Ifi1LiT_D",
        "outputId": "dc9fa9de-b2da-4e12-ab08-98af747b33f7"
      },
      "source": [
        "\"\"\"\n",
        "initializing hidden layer and dense layer parameters\n",
        "\"\"\"\n",
        "np.random.seed(8)\n",
        "W_h = np.random.randn(max_seq_len*embed_dim, 500)*0.1\n",
        "b_h = np.random.randn(500)*0.01\n",
        "\n",
        "W_o = np.random.randn(500, 5)*0.1\n",
        "b_o = np.random.randn(5)*0.01\n",
        "\n",
        "print(\"W_h, b_h and W_o, b_o have shapes {0} {1} {2} {3}\".format(W_h.shape,b_h.shape, W_o.shape, b_o.shape))"
      ],
      "execution_count": null,
      "outputs": [
        {
          "output_type": "stream",
          "text": [
            "W_h, b_h and W_o, b_o have shapes (400, 500) (500,) (500, 5) (5,)\n"
          ],
          "name": "stdout"
        }
      ]
    },
    {
      "cell_type": "code",
      "metadata": {
        "id": "j5sl1TUu95b3"
      },
      "source": [
        "#reshuffling examples once again\n",
        "z1 = list(zip(flattened_X_train, Y_train))\n",
        "random.shuffle(z1)\n",
        "flattened_X_train, Y_train = zip(*z1)\n",
        "\n",
        "z2 = list(zip(flattened_X_dev, Y_dev))\n",
        "random.shuffle(z2)\n",
        "flattened_X_dev, Y_dev = zip(*z2)\n",
        "\n",
        "z3 = list(zip(flattened_X_test, Y_test))\n",
        "random.shuffle(z3)\n",
        "flattened_X_test, Y_test = zip(*z3)"
      ],
      "execution_count": null,
      "outputs": []
    },
    {
      "cell_type": "code",
      "metadata": {
        "id": "rZIIA-1mfl4o"
      },
      "source": [
        "Y_dev[12750:12772]"
      ],
      "execution_count": null,
      "outputs": []
    },
    {
      "cell_type": "code",
      "metadata": {
        "id": "f5wBI520PdtA"
      },
      "source": [
        "def one_hot_vector(n):\n",
        "  # returns one-hot representation of a word from its index\n",
        "  vec = np.zeros(5)\n",
        "  vec[n] = 1\n",
        "  return vec"
      ],
      "execution_count": null,
      "outputs": []
    },
    {
      "cell_type": "code",
      "metadata": {
        "id": "lSsIFpBLPdtX"
      },
      "source": [
        "def softmax(vector):\n",
        "    # applies softmax to a vector\n",
        "    if vector.ndim >1:\n",
        "      vector -= np.max(vector, axis=1).reshape(-1, 1)\n",
        "      vector = np.divide(np.exp(vector), np.sum(np.exp(vector), axis=1).reshape(-1, 1) + minval)\n",
        "    else:\n",
        "      vector -= np.max(vector)\n",
        "      vector = np.divide(np.exp(vector), np.sum(np.exp(vector)) + min_val)\n",
        "\n",
        "    return vector"
      ],
      "execution_count": null,
      "outputs": []
    },
    {
      "cell_type": "code",
      "metadata": {
        "id": "8lE3tdUX-yKK"
      },
      "source": [
        "def logistic(z):\n",
        "  return 1./(1. + np.exp(-z))"
      ],
      "execution_count": null,
      "outputs": []
    },
    {
      "cell_type": "code",
      "metadata": {
        "id": "8tTBgoDsPdte"
      },
      "source": [
        "def cross_entropy(y_hat, y):\n",
        "  # computes cross entropy error given the prediction and true label\n",
        "  \n",
        "  loss = -y*np.log(y_hat + min_val)\n",
        "  return loss"
      ],
      "execution_count": null,
      "outputs": []
    },
    {
      "cell_type": "code",
      "metadata": {
        "id": "vbUGAIzR7oMs"
      },
      "source": [
        "def d_abs(x):\n",
        "  mask=(x>=0)*1.0\n",
        "  mask2=(x<0)*-1.0\n",
        "  return mask+mask2"
      ],
      "execution_count": null,
      "outputs": []
    },
    {
      "cell_type": "code",
      "metadata": {
        "colab": {
          "base_uri": "https://localhost:8080/"
        },
        "id": "IBGjoZJC72xf",
        "outputId": "b66d2f92-ae10-4d49-8ac5-07d5edc737b4"
      },
      "source": [
        "aa=np.array((-1,2,-3))\n",
        "bb=d_abs(aa)\n",
        "bb"
      ],
      "execution_count": null,
      "outputs": [
        {
          "output_type": "execute_result",
          "data": {
            "text/plain": [
              "array([-1.,  1., -1.])"
            ]
          },
          "metadata": {
            "tags": []
          },
          "execution_count": 48
        }
      ]
    },
    {
      "cell_type": "code",
      "metadata": {
        "id": "GHZ2xjjAi189"
      },
      "source": [
        "def SGD(num_epochs, lr, reg_lambda, X_train, X_dev, Y_train, Y_dev):\n",
        "  global W_h,b_h,W_o,b_o\n",
        "  train_costs=[]\n",
        "  dev_costs=[]\n",
        "  begin_time = datetime.now()\n",
        "  for epoch in range(1, num_epochs+1):\n",
        "\n",
        "    train_cost=0\n",
        "    dev_cost=0\n",
        "    for i in range(len(X_train)):\n",
        "      \n",
        "      #forward propagation\n",
        "      X=X_train[i]\n",
        "      T=one_hot_vector(Y_train[i])\n",
        "\n",
        "      h=np.dot(X, W_h)+b_h\n",
        "      H=logistic(h)\n",
        "      y=np.dot(H, W_o)+b_o\n",
        "      Y=softmax(y)\n",
        "\n",
        "      #loss calculation\n",
        "      loss=cross_entropy(Y, T)\n",
        "      loss=np.sum(loss)+(np.sum(np.abs(W_h))+np.sum(np.abs(W_o)))*(reg_lambda) \n",
        "      train_cost+=loss\n",
        "\n",
        "      #backward propagation\n",
        "      error_o = Y-T\n",
        "      dW_o = np.outer(H.T, error_o) + reg_lambda*d_abs(W_o)\n",
        "      db_o = error_o\n",
        "      \n",
        "      error_h = np.multiply(np.multiply(H,(1 - H)), np.dot(error_o, W_o.T)) \n",
        "      dW_h = np.outer(X.T, error_h) + reg_lambda*d_abs(W_h)\n",
        "      db_h = error_h\n",
        "\n",
        "      #updating parameters\n",
        "      W_o = W_o - lr*dW_o\n",
        "      b_o = b_o - lr*db_o\n",
        "\n",
        "      W_h = W_h - lr*dW_h\n",
        "      b_h = b_h - lr*db_h\n",
        "\n",
        "    for i in range(len(X_dev)):\n",
        "      #validation set loss calculation\n",
        "      X=X_dev[i]\n",
        "      T=one_hot_vector(Y_dev[i])\n",
        "\n",
        "      h=np.dot(X, W_h)+b_h\n",
        "      H=logistic(h)\n",
        "      y=np.dot(H, W_o)+b_o\n",
        "      Y=softmax(y)\n",
        "\n",
        "      loss=cross_entropy(Y, T)\n",
        "      loss=np.sum(loss)+(np.sum(np.abs(W_h))+np.sum(np.abs(W_o)))*(reg_lambda/2)\n",
        "      dev_cost+=loss\n",
        "\n",
        "    train_costs.append(train_cost)\n",
        "    dev_costs.append(dev_cost)\n",
        "    \n",
        "    if epoch%10==0:\n",
        "      with open('/content/drive/My Drive/Colab Notebooks/sentiment analysis/shallow network 0/wh_epoch_l1reg_0.0001_'+str(epoch), 'wb') as handle:\n",
        "        pickle.dump(W_h, handle, protocol=pickle.HIGHEST_PROTOCOL)\n",
        "      with open('/content/drive/My Drive/Colab Notebooks/sentiment analysis/shallow network 0/wo_epoch_l1reg_0.0001_'+str(epoch), 'wb') as handle1:\n",
        "        pickle.dump(W_o, handle1, protocol=pickle.HIGHEST_PROTOCOL)\n",
        "      with open('/content/drive/My Drive/Colab Notebooks/sentiment analysis/shallow network 0/bh_epoch_l1reg_0.0001_'+str(epoch), 'wb') as handle2:\n",
        "        pickle.dump(b_h, handle2, protocol=pickle.HIGHEST_PROTOCOL)\n",
        "      with open('/content/drive/My Drive/Colab Notebooks/sentiment analysis/shallow network 0/bo_epoch_l1reg_0.0001_'+str(epoch), 'wb') as handle3:\n",
        "        pickle.dump(b_o, handle3, protocol=pickle.HIGHEST_PROTOCOL)\n",
        "      print(\"Epoch {0} --> Training Cost = {1}\".format(epoch, train_cost))\n",
        "\n",
        "  end_time = datetime.now()\n",
        "  print('Total training time: {}'.format(end_time - begin_time))\n",
        "\n",
        "  with open('/content/drive/My Drive/Colab Notebooks/sentiment analysis/shallow network 0/train_costs_l1reg_0.0001_', 'wb') as handle4:\n",
        "    pickle.dump(train_costs, handle4, protocol=pickle.HIGHEST_PROTOCOL)\n",
        "  with open('/content/drive/My Drive/Colab Notebooks/sentiment analysis/shallow network 0/dev_costs_l1reg_0.0001_', 'wb') as handle5:\n",
        "    pickle.dump(dev_costs, handle5, protocol=pickle.HIGHEST_PROTOCOL)\n",
        "\n",
        "  # Plotting each epoch's cost\n",
        "  plt.plot(np.arange(num_epochs), train_costs, label=\"training loss\")\n",
        "  plt.plot(np.arange(num_epochs), dev_costs, label=\"validation loss\")\n",
        "  plt.xlabel('# of epochs')\n",
        "  plt.ylabel('loss')\n",
        "  plt.legend()\n",
        "  plt.savefig('/content/drive/My Drive/Colab Notebooks/sentiment analysis/shallow network 0/plot_l1reg_0.0001_.png', bbox_inches='tight')"
      ],
      "execution_count": null,
      "outputs": []
    },
    {
      "cell_type": "code",
      "metadata": {
        "colab": {
          "base_uri": "https://localhost:8080/",
          "height": 347
        },
        "id": "335ElNEoZ0DF",
        "outputId": "8670f301-683d-4630-8409-b1a54f4f0036"
      },
      "source": [
        "SGD(30, 0.025, 0.0001, flattened_X_train, flattened_X_dev, Y_train, Y_dev)"
      ],
      "execution_count": null,
      "outputs": [
        {
          "output_type": "stream",
          "text": [
            "Epoch 10 --> Training Cost = 18027.247103510592\n",
            "Epoch 20 --> Training Cost = 16438.763443988795\n",
            "Epoch 30 --> Training Cost = 15705.812663346951\n",
            "Total training time: 0:44:14.947089\n"
          ],
          "name": "stdout"
        },
        {
          "output_type": "display_data",
          "data": {
            "image/png": "[encoded data removed]",
            "text/plain": [
              "<Figure size 432x288 with 1 Axes>"
            ]
          },
          "metadata": {
            "tags": [],
            "needs_background": "light"
          }
        }
      ]
    },
    {
      "cell_type": "code",
      "metadata": {
        "id": "iijTrcRjgY8f"
      },
      "source": [
        "\"\"\"\n",
        "obtaining predictions for train,dev and test set\n",
        "\"\"\"\n",
        "pred_train=[]\n",
        "pred_dev=[]\n",
        "pred_test=[]\n",
        "\n",
        "for i in range(len(flattened_X_train)):\n",
        "  X=flattened_X_train[i]\n",
        "  h=np.dot(X, W_h)+b_h\n",
        "  H=logistic(h)\n",
        "  y=np.dot(H, W_o)+b_o\n",
        "  Y=softmax(y)\n",
        "\n",
        "  n=np.argmax(Y)\n",
        "  pred_train.append(n)\n",
        "\n",
        "\n",
        "for i in range(len(flattened_X_dev)):\n",
        "  X=flattened_X_dev[i]\n",
        "  h=np.dot(X, W_h)+b_h\n",
        "  H=logistic(h)\n",
        "  y=np.dot(H, W_o)+b_o\n",
        "  Y=softmax(y)\n",
        "\n",
        "  n=np.argmax(Y)\n",
        "  pred_dev.append(n)\n",
        "\n",
        "for i in range(len(flattened_X_test)):\n",
        "  X=flattened_X_test[i]\n",
        "  h=np.dot(X, W_h)+b_h\n",
        "  H=logistic(h)\n",
        "  y=np.dot(H, W_o)+b_o\n",
        "  Y=softmax(y)\n",
        "\n",
        "  n=np.argmax(Y)\n",
        "  pred_test.append(n)"
      ],
      "execution_count": null,
      "outputs": []
    },
    {
      "cell_type": "code",
      "metadata": {
        "colab": {
          "base_uri": "https://localhost:8080/"
        },
        "id": "a76GgaNjgcDq",
        "outputId": "833da23a-160d-4632-df46-fbef46548dce"
      },
      "source": [
        "cm1 = metrics.confusion_matrix(Y_train, pred_train)\n",
        "cm2 = metrics.confusion_matrix(Y_dev, pred_dev)\n",
        "cm3 = metrics.confusion_matrix(Y_test, pred_test)\n",
        "cm1, cm2, cm3"
      ],
      "execution_count": null,
      "outputs": [
        {
          "output_type": "execute_result",
          "data": {
            "text/plain": [
              "(array([[1957,  133,   39,  125,   16],\n",
              "        [1185,  823,  257,  394,   30],\n",
              "        [ 327,  175, 1386,  576,   36],\n",
              "        [ 352,   94,  341, 2101,  246],\n",
              "        [ 202,   33,   63,  823, 1058]]),\n",
              " array([[1552,  248,  112,  299,   59],\n",
              "        [1227,  418,  395,  557,   92],\n",
              "        [ 404,  255, 1092,  670,   79],\n",
              "        [ 559,  202,  382, 1569,  422],\n",
              "        [ 347,   83,   87, 1007,  655]]),\n",
              " array([[1488,  291,  109,  299,   83],\n",
              "        [1220,  425,  392,  573,   79],\n",
              "        [ 397,  229, 1119,  677,   78],\n",
              "        [ 526,  219,  445, 1529,  415],\n",
              "        [ 349,   96,   81, 1019,  634]]))"
            ]
          },
          "metadata": {
            "tags": []
          },
          "execution_count": 68
        }
      ]
    },
    {
      "cell_type": "code",
      "metadata": {
        "colab": {
          "base_uri": "https://localhost:8080/"
        },
        "id": "V3OqoDIGgffM",
        "outputId": "618af6cb-0632-43eb-aa86-da36f63c3c9a"
      },
      "source": [
        "print(\"Training Accuracy = \",metrics.accuracy_score(Y_train, pred_train)*100)\n",
        "print(\"Devset Accuracy = \",metrics.accuracy_score(Y_dev, pred_dev)*100)\n",
        "print(\"Testing Accuracy = \",metrics.accuracy_score(Y_test, pred_test)*100)"
      ],
      "execution_count": null,
      "outputs": [
        {
          "output_type": "stream",
          "text": [
            "Training Accuracy =  57.35202004384591\n",
            "Devset Accuracy =  41.38740995928594\n",
            "Testing Accuracy =  40.674913874099595\n"
          ],
          "name": "stdout"
        }
      ]
    },
    {
      "cell_type": "code",
      "metadata": {
        "colab": {
          "base_uri": "https://localhost:8080/",
          "height": 334
        },
        "id": "bl1khhkPlRQ3",
        "outputId": "f936f2f6-503a-403b-f291-e67d27f39d46"
      },
      "source": [
        "x=[1, 2, 3, 4, 5, 6, 7, 8]\n",
        "t=[40.8, 41.60, 52, 75, 78, 86.59, 88, 92]\n",
        "v=[40, 42.1, 42.5, 44.31, 44.39, 44.98, 43.45, 44.04]\n",
        "xa=np.arange(9)\n",
        "ta=np.full((9), 88.47)\n",
        "va=np.full((9), 42.67)\n",
        "fig = plt.gcf()\n",
        "plt.plot(x, t, label=\"training accuracy\", color=\"darkblue\", marker='o')\n",
        "plt.plot(x, v, label=\"validation accuracy\", color=\"darkorange\", marker='o')\n",
        "plt.plot(xa, ta, color=\"blue\", linestyle='--', marker='o', markevery=[0])\n",
        "plt.plot(xa, va, color=\"orange\", linestyle='--', marker='o', markevery=[0])\n",
        "plt.xlabel('- log(lambda)')\n",
        "plt.ylabel('Accuracy')\n",
        "plt.legend()\n",
        "fig.set_size_inches(10, 5, forward=True)\n",
        "plt.savefig('/content/drive/My Drive/Colab Notebooks/sentiment analysis/shallow network 0/reg_plot1.png', bbox_inches='tight')"
      ],
      "execution_count": null,
      "outputs": [
        {
          "output_type": "display_data",
          "data": {
            "image/png": "[encoded data removed]",
            "text/plain": [
              "<Figure size 720x360 with 1 Axes>"
            ]
          },
          "metadata": {
            "tags": [],
            "needs_background": "light"
          }
        }
      ]
    }
  ]
}